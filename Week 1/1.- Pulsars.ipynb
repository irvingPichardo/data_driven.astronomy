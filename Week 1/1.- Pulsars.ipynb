{
 "cells": [
  {
   "attachments": {},
   "cell_type": "markdown",
   "metadata": {},
   "source": [
    "<img width=\"250\" src=https://i.pinimg.com/originals/ea/a2/d7/eaa2d7701c73dfeef99f21f8c8c28bdb.png>\n",
    "<br>\n",
    "\n",
    "# Pulsars #\n",
    "<br>\n",
    "In 1967, a Cambridge University Ph.D. Student named Jocelyn Bell found something strange in her radio Astronomy Data. A very faint blip coming from one part of the sky that repeated every one point three seconds with incredible precision. It was so uniform that Bell and her supervisor, Anthony Hewish, nicknamed their discovery LGM-1 for Little Green Men. They figured it probably wasn't really a message from an alien civilization, but how else to explain such an astoundingly regular signal from space. Actually, a theoretical explanation had been waiting patiently for more than 30 years for experiment to catch up. In the 1930s, astronomers Volta Badda and Fritz Zwicky were searching for an explanation for supernova. The stupendous explosions that mark the death of some stars and which can for a little while at least outshine an entire galaxy.\n",
    "When the sub-atomic particle called the neutron was discovered in 1932, Badda and Zwicky realized it could solve their problem. They suggested that when an old large star runs out of nuclear fuel, it rapidly collapses under its own gravity. The star's core suddenly transforms into a super dense ball of neutrons, and the outer layers of the star bounce off in a massive explosion of light and energy, a supernova. \n",
    "The dense core of neutrons that remains behind, dubs a neutron star, would have the mass of two or three suns squeezed down into the size of a large city. A nice idea, but from that first hypothesis until the 1960s, neutron stars were assumed to be too dim to see with a telescope and that was that. But in the 1960s, astronomers realized that when a star suddenly collapses like this, two interesting things can happen. \n",
    "Stars typically rotate perhaps once every few days. The law of conservation of angular momentum says, that when a star collapses the rotation speeds up. So, a neutron star could be spinning anything from once a second to tens or even hundreds of times a second. Also, like the Earth, stars have magnetic fields. And when a star collapses, it takes the fields with it. So, neutron stars would have incredibly intense magnetic fields. \n",
    "Charged particles in the super-hot plasma surrounding a neutron star, would get funneled towards the stars magnetic poles and shot out into space as two intense beams. Put these two ideas together, and a neutron star becomes a bit like a lighthouse, rapidly spinning in space, flashing its energy beams across the universe. And suddenly the signal that Bell and Hewish found with their radio telescope made sense. \n",
    "Instead of little green men trying to make contact with Earth, the regular pulses they saw with the beams of a spinning neutron star sweeping past the Earth every one point three seconds. When they and other astronomers looked around the sky, they found more spinning neutron stars. Some of it's slower, some much faster. They called them Pulsars.\n",
    "<br>\n",
    "<img alt=\"l\" width=\"350\" src=https://cdn.sci.news/images/enlarge8/image_9679e-Pulsar.jpg>\n",
    "<br>\n",
    "<h6>Jorge Irving Cristobal Pichardo<h6>"
   ]
  },
  {
   "cell_type": "code",
   "execution_count": null,
   "metadata": {},
   "outputs": [],
   "source": []
  }
 ],
 "metadata": {
  "kernelspec": {
   "display_name": "Python 3",
   "language": "python",
   "name": "python3"
  },
  "language_info": {
   "codemirror_mode": {
    "name": "ipython",
    "version": 3
   },
   "file_extension": ".py",
   "mimetype": "text/x-python",
   "name": "python",
   "nbconvert_exporter": "python",
   "pygments_lexer": "ipython3",
   "version": "3.7.6"
  }
 },
 "nbformat": 4,
 "nbformat_minor": 4
}
