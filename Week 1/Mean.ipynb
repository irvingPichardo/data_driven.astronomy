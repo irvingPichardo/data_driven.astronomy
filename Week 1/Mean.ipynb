{
 "cells": [
  {
   "cell_type": "markdown",
   "metadata": {},
   "source": [
    "We'll start with an easy question to check everything is working.\n",
    "<br>\n",
    "Write a function calculate_mean that calculates the mean of a list of numbers. Your function should take a single argument, the list of floats, and return the mean of that list, like this:\n",
    "<br>\n",
    "calculate_mean([1, 2.2, 0.3, 3.4, 7.9])<br>\n",
    "\n",
    "2.96\n",
    "<br>\n",
    "We'll test your function on different lists, so make sure it works for the general case. Here's another example of how it should work:\n",
    "<br>\n",
    "\n",
    "calculate_mean([1.2, 3.8, 2.2, 8.2, 7.1])<br>\n",
    "\n",
    "4.5\n",
    "Your solution cannot use the builtin statistics module.\n",
    "<br>\n",
    "\n",
    "Make sure your program works for negative numbers as well. We will not test your program with an empty list.\n",
    "\n"
   ]
  },
  {
   "cell_type": "code",
   "execution_count": 1,
   "metadata": {},
   "outputs": [
    {
     "name": "stdout",
     "output_type": "stream",
     "text": [
      "2.96\n"
     ]
    }
   ],
   "source": [
    "# Write your calculate_mean function here.\n",
    "def calculate_mean(data):\n",
    "  mean = sum(data)/len(data)\n",
    "  return mean\n",
    "\n",
    "# You can use this to test your function.\n",
    "# Any code inside this `if` statement will be ignored by the automarker.\n",
    "if __name__ == '__main__':\n",
    "  # Run your `calculate_mean` function with examples:\n",
    "  mean = calculate_mean([1,2.2,0.3,3.4,7.9])\n",
    "  print(mean)\n",
    "  \n",
    " "
   ]
  },
  {
   "cell_type": "code",
   "execution_count": null,
   "metadata": {},
   "outputs": [],
   "source": []
  }
 ],
 "metadata": {
  "kernelspec": {
   "display_name": "Python 3",
   "language": "python",
   "name": "python3"
  },
  "language_info": {
   "codemirror_mode": {
    "name": "ipython",
    "version": 3
   },
   "file_extension": ".py",
   "mimetype": "text/x-python",
   "name": "python",
   "nbconvert_exporter": "python",
   "pygments_lexer": "ipython3",
   "version": "3.7.6"
  }
 },
 "nbformat": 4,
 "nbformat_minor": 4
}
